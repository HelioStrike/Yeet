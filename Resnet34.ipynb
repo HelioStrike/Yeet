{
  "nbformat": 4,
  "nbformat_minor": 0,
  "metadata": {
    "colab": {
      "name": "AyyLmao_Resnet34.ipynb",
      "version": "0.3.2",
      "provenance": [],
      "collapsed_sections": [],
      "toc_visible": true
    },
    "kernelspec": {
      "name": "python3",
      "display_name": "Python 3"
    },
    "accelerator": "GPU"
  },
  "cells": [
    {
      "metadata": {
        "id": "mVkmm-7-f8D-",
        "colab_type": "text"
      },
      "cell_type": "markdown",
      "source": [
        "# Colab setup\n"
      ]
    },
    {
      "metadata": {
        "id": "uYHgxPiedr15",
        "colab_type": "code",
        "colab": {}
      },
      "cell_type": "code",
      "source": [
        "from os import path\n",
        "from wheel.pep425tags import get_abbr_impl, get_impl_ver, get_abi_tag\n",
        "platform = '{}{}-{}'.format(get_abbr_impl(), get_impl_ver(), get_abi_tag())\n",
        "\n",
        "accelerator = 'cu80' if path.exists('/opt/bin/nvidia-smi') else 'cpu'\n",
        "\n",
        "!pip install -q http://download.pytorch.org/whl/{accelerator}/torch-0.4.0-{platform}-linux_x86_64.whl torchvision\n",
        "import torch\n",
        "print(torch.__version__)\n",
        "print(torch.cuda.is_available())"
      ],
      "execution_count": 0,
      "outputs": []
    },
    {
      "metadata": {
        "id": "6WXSslxueGlC",
        "colab_type": "code",
        "colab": {}
      },
      "cell_type": "code",
      "source": [
        "!pip3 install Pillow==4.0.0\n",
        "!pip3 install PIL\n",
        "!pip3 install image"
      ],
      "execution_count": 0,
      "outputs": []
    },
    {
      "metadata": {
        "id": "SoXsPcEMuU_7",
        "colab_type": "code",
        "colab": {}
      },
      "cell_type": "code",
      "source": [
        "import random\n",
        "import torch\n",
        "import torchvision\n",
        "import torchvision.transforms as transforms\n",
        "import torchvision.datasets\n",
        "import torchvision.models as models\n",
        "import torch.nn as nn\n",
        "import torch.nn.functional as F\n",
        "import torch.optim as optim\n",
        "\n",
        "import numpy as np\n",
        "import pandas as pd\n",
        "import os\n",
        "from PIL import Image"
      ],
      "execution_count": 0,
      "outputs": []
    },
    {
      "metadata": {
        "id": "K55Z6esrFSeC",
        "colab_type": "code",
        "colab": {}
      },
      "cell_type": "code",
      "source": [
        "!wget https://cdn.skillenza.com/files/5ee0a2e1-bf6d-4173-8244-e75fa2d7bbe2/training.5k.zip\n",
        "!unzip training.5k.zip  "
      ],
      "execution_count": 0,
      "outputs": []
    },
    {
      "metadata": {
        "id": "psBBloVCHiZW",
        "colab_type": "code",
        "colab": {}
      },
      "cell_type": "code",
      "source": [
        "!wget https://cdn.skillenza.com/files/7da538a3-4db6-46ea-a4f8-87a21368e5f5/testing.40k.zip\n",
        "!unzip testing.40k.zip"
      ],
      "execution_count": 0,
      "outputs": []
    },
    {
      "metadata": {
        "id": "KlXv3fo-pvKg",
        "colab_type": "code",
        "colab": {}
      },
      "cell_type": "code",
      "source": [
        "os.environ['CUDA_LAUNCH_BLOCKING'] = '1'\n"
      ],
      "execution_count": 0,
      "outputs": []
    },
    {
      "metadata": {
        "id": "e-huiczogPti",
        "colab_type": "text"
      },
      "cell_type": "markdown",
      "source": [
        "# Hyperparameters"
      ]
    },
    {
      "metadata": {
        "id": "I4m8nfHduUKc",
        "colab_type": "code",
        "colab": {}
      },
      "cell_type": "code",
      "source": [
        "NUM_EPOCHS = 10\n",
        "LR = (1e-4)\n",
        "BATCH_SIZE = 4\n",
        "GAMMA = 0.95\n",
        "curr_lr = LR"
      ],
      "execution_count": 0,
      "outputs": []
    },
    {
      "metadata": {
        "id": "NIgRM-ucwzPr",
        "colab_type": "code",
        "colab": {}
      },
      "cell_type": "code",
      "source": [
        "tfms = transforms.Compose([transforms.Resize((256,256)),transforms.CenterCrop((224,224)),transforms.transforms.ToTensor(), transforms.Normalize(mean=[0.485, 0.456, 0.406],std=[0.229, 0.224, 0.225])])"
      ],
      "execution_count": 0,
      "outputs": []
    },
    {
      "metadata": {
        "id": "aTFCdyDnykS6",
        "colab_type": "code",
        "colab": {}
      },
      "cell_type": "code",
      "source": [
        "categories = pd.read_csv(\"/content/training/solution.csv\")[\"category\"]\n",
        "def getitem(idx):\n",
        "    img_name = os.path.join(\"/content/training/training/\", str(idx+1) + \".png\")\n",
        "    image = Image.open(img_name)\n",
        "    if tfms:\n",
        "        image = tfms(image)\n",
        "    category = categories[idx]\n",
        "    sample = {'image': image, 'category': category}\n",
        "\n",
        "    return sample"
      ],
      "execution_count": 0,
      "outputs": []
    },
    {
      "metadata": {
        "id": "khhsSNyIHYb7",
        "colab_type": "code",
        "colab": {}
      },
      "cell_type": "code",
      "source": [
        "a = np.arange(0,5000)\n",
        "np.random.shuffle(a)\n",
        "train_indexes = a[:4901]\n",
        "test_indexes = a[4901:5001]"
      ],
      "execution_count": 0,
      "outputs": []
    },
    {
      "metadata": {
        "id": "CozkOmrcghJq",
        "colab_type": "text"
      },
      "cell_type": "markdown",
      "source": [
        "# Model"
      ]
    },
    {
      "metadata": {
        "id": "nEOlgPMXymHl",
        "colab_type": "code",
        "colab": {}
      },
      "cell_type": "code",
      "source": [
        "class Flatten(nn.Module):\n",
        "    def forward(self, input):\n",
        "        return input.view(input.size(0), -1)"
      ],
      "execution_count": 0,
      "outputs": []
    },
    {
      "metadata": {
        "id": "7Hc35Ctoy0Lp",
        "colab_type": "code",
        "colab": {}
      },
      "cell_type": "code",
      "source": [
        "model = models.resnet34(pretrained=True)\n",
        "\n",
        "model = nn.Sequential(*list(model.children())[:-2],\n",
        "                     nn.Conv2d(512, 6, 3, 1),\n",
        "                     nn.AdaptiveAvgPool2d(1), Flatten(),\n",
        "                     nn.LogSoftmax())\n",
        "\n",
        "if torch.cuda.is_available():\n",
        "    model = model.cuda()\n",
        "\n",
        "criterion = nn.CrossEntropyLoss()\n",
        "optimizer = optim.SGD(model.parameters(), lr=LR, momentum=0.9)"
      ],
      "execution_count": 0,
      "outputs": []
    },
    {
      "metadata": {
        "id": "r28TqwORzkAH",
        "colab_type": "code",
        "colab": {}
      },
      "cell_type": "code",
      "source": [
        "#print(model.children)\n",
        "count = 0\n",
        "for param in model.parameters():\n",
        "    param.requires_grad = False\n",
        "    count += 1\n",
        "    if count >= 8:\n",
        "        break"
      ],
      "execution_count": 0,
      "outputs": []
    },
    {
      "metadata": {
        "id": "-7qSJsvyzrrc",
        "colab_type": "code",
        "colab": {}
      },
      "cell_type": "code",
      "source": [
        "def adjust_learning_rate(optimizer, lr):\n",
        "    for param_group in optimizer.param_groups:\n",
        "        param_group['lr'] = lr"
      ],
      "execution_count": 0,
      "outputs": []
    },
    {
      "metadata": {
        "id": "mRWXuRh6gkhj",
        "colab_type": "text"
      },
      "cell_type": "markdown",
      "source": [
        "# Training"
      ]
    },
    {
      "metadata": {
        "id": "9mkcWkLQM_qI",
        "colab_type": "code",
        "colab": {}
      },
      "cell_type": "code",
      "source": [
        "losses = []\n",
        "accuracies = []\n",
        "validation_accuracies=[]"
      ],
      "execution_count": 0,
      "outputs": []
    },
    {
      "metadata": {
        "id": "_D2sey4b6ax9",
        "colab_type": "code",
        "colab": {}
      },
      "cell_type": "code",
      "source": [
        "def validation_accuracy(model):\n",
        "  \"\"\"\n",
        "  Performs inference on the Validation set and returns the reported accuracy\n",
        "  \"\"\"\n",
        "  correct = 0\n",
        "  \n",
        "  with torch.no_grad():\n",
        "    for idx in range(0,99):\n",
        "      data = getitem(test_indexes[idx])\n",
        "      image = data['image']\n",
        "      exp = data['category']\n",
        "      image = image.unsqueeze(0).cuda()\n",
        "      target = model(image)\n",
        "      ans = (torch.argmax(target).cpu().numpy()+1)\n",
        "      if (ans == exp):\n",
        "        correct +=1\n",
        "  return (correct/99)\n",
        "\n",
        "  "
      ],
      "execution_count": 0,
      "outputs": []
    },
    {
      "metadata": {
        "id": "ntHZzQ2eztpf",
        "colab_type": "code",
        "outputId": "1ceed990-eeb8-4ac2-dec0-423947552fe6",
        "colab": {
          "base_uri": "https://localhost:8080/",
          "height": 2619
        }
      },
      "cell_type": "code",
      "source": [
        "for epoch in range(10):\n",
        "    model.train()\n",
        "    total_loss = 0\n",
        "    accuracy = 0\n",
        "    count = 0\n",
        "\n",
        "    adjust_learning_rate(optimizer, curr_lr)\n",
        "    curr_lr *= GAMMA\n",
        "    \n",
        "    optimizer.zero_grad()\n",
        "    for c in range(0,int(4900/BATCH_SIZE)):\n",
        "        optimizer.zero_grad()\n",
        "        images = torch.zeros([BATCH_SIZE,3,224,224])\n",
        "        targets = []\n",
        "        for p in range(0,BATCH_SIZE):\n",
        "            data = getitem(train_indexes[BATCH_SIZE*c+p])\n",
        "            images[p,:,:,:] = data['image']\n",
        "            targets.append(np.asscalar(data[\"category\"])-1)\n",
        "        targets = torch.LongTensor(targets)\n",
        "        if torch.cuda.is_available():\n",
        "            images = images.cuda()\n",
        "            targets = targets.cuda()\n",
        "        \n",
        "        outs = model(images)\n",
        "        loss = criterion(outs, targets)\n",
        "        loss.backward()\n",
        "        optimizer.step()\n",
        "                \n",
        "        total_loss += loss.data\n",
        "        accuracy += torch.sum(torch.argmax(outs, dim=1) == targets)\n",
        "        count += 1\n",
        "\n",
        "        if c%300 == 0:\n",
        "            print(\"Epoch:\", epoch, \"Iter:\", c, \"average batch loss:\", total_loss/(c+1))\n",
        "    \n",
        "    \n",
        "    print(\"\\nEpoch:\", epoch, \"Total loss:\", total_loss)\n",
        "    acc = accuracy.cpu().numpy()/(count*BATCH_SIZE)\n",
        "    print(\"Epoch:\", epoch, \"Accuracy:\", acc,'\\n') \n",
        "    \n",
        "    model.eval()\n",
        "    val_acc = validation_accuracy(model)\n",
        "    print('Validation accuracy:',val_acc)\n",
        "    model.train()\n",
        "    \n",
        "    torch.save(model.state_dict(), \"resnet34_epoch_\"+str(epoch)+\"pt\")\n",
        "    losses.append(total_loss)\n",
        "    accuracies.append(acc)\n",
        "    validation_accuracies.append(val_acc)\n",
        "    #validation_losses.append(val_loss)"
      ],
      "execution_count": 0,
      "outputs": [
        {
          "output_type": "stream",
          "text": [
            "/usr/local/lib/python3.6/dist-packages/torch/nn/modules/container.py:91: UserWarning: Implicit dimension choice for log_softmax has been deprecated. Change the call to include dim=X as an argument.\n",
            "  input = module(input)\n"
          ],
          "name": "stderr"
        },
        {
          "output_type": "stream",
          "text": [
            "Epoch: 0 Iter: 0 average batch loss: tensor(2.2639, device='cuda:0')\n",
            "Epoch: 0 Iter: 300 average batch loss: tensor(1.9122, device='cuda:0')\n",
            "Epoch: 0 Iter: 600 average batch loss: tensor(1.5541, device='cuda:0')\n",
            "Epoch: 0 Iter: 900 average batch loss: tensor(1.2759, device='cuda:0')\n",
            "Epoch: 0 Iter: 1200 average batch loss: tensor(1.0824, device='cuda:0')\n",
            "\n",
            "Epoch: 0 Total loss: tensor(1316.1896, device='cuda:0')\n",
            "Epoch: 0 Accuracy: 0.6026530612244898 \n",
            "\n",
            "Validation accuracy: 0.9393939393939394\n",
            "Epoch: 1 Iter: 0 average batch loss: tensor(0.2833, device='cuda:0')\n",
            "Epoch: 1 Iter: 300 average batch loss: tensor(0.3395, device='cuda:0')\n",
            "Epoch: 1 Iter: 600 average batch loss: tensor(0.2815, device='cuda:0')\n",
            "Epoch: 1 Iter: 900 average batch loss: tensor(0.2203, device='cuda:0')\n",
            "Epoch: 1 Iter: 1200 average batch loss: tensor(0.1881, device='cuda:0')\n",
            "\n",
            "Epoch: 1 Total loss: tensor(228.7975, device='cuda:0')\n",
            "Epoch: 1 Accuracy: 0.9422448979591836 \n",
            "\n",
            "Validation accuracy: 0.9292929292929293\n",
            "Epoch: 2 Iter: 0 average batch loss: tensor(1.00000e-03 *\n",
            "       4.8384, device='cuda:0')\n",
            "Epoch: 2 Iter: 300 average batch loss: tensor(1.00000e-02 *\n",
            "       6.1890, device='cuda:0')\n",
            "Epoch: 2 Iter: 600 average batch loss: tensor(1.00000e-02 *\n",
            "       4.9187, device='cuda:0')\n",
            "Epoch: 2 Iter: 900 average batch loss: tensor(1.00000e-02 *\n",
            "       4.0399, device='cuda:0')\n",
            "Epoch: 2 Iter: 1200 average batch loss: tensor(1.00000e-02 *\n",
            "       3.5627, device='cuda:0')\n",
            "\n",
            "Epoch: 2 Total loss: tensor(43.1794, device='cuda:0')\n",
            "Epoch: 2 Accuracy: 0.9926530612244898 \n",
            "\n",
            "Validation accuracy: 0.9595959595959596\n",
            "Epoch: 3 Iter: 0 average batch loss: tensor(1.00000e-03 *\n",
            "       1.3757, device='cuda:0')\n",
            "Epoch: 3 Iter: 300 average batch loss: tensor(1.00000e-02 *\n",
            "       1.3353, device='cuda:0')\n",
            "Epoch: 3 Iter: 600 average batch loss: tensor(1.00000e-02 *\n",
            "       1.0981, device='cuda:0')\n",
            "Epoch: 3 Iter: 900 average batch loss: tensor(1.00000e-03 *\n",
            "       9.7586, device='cuda:0')\n",
            "Epoch: 3 Iter: 1200 average batch loss: tensor(1.00000e-03 *\n",
            "       8.8631, device='cuda:0')\n",
            "\n",
            "Epoch: 3 Total loss: tensor(10.7722, device='cuda:0')\n",
            "Epoch: 3 Accuracy: 0.9993877551020408 \n",
            "\n",
            "Validation accuracy: 0.9696969696969697\n",
            "Epoch: 4 Iter: 0 average batch loss: tensor(1.00000e-03 *\n",
            "       1.4535, device='cuda:0')\n",
            "Epoch: 4 Iter: 300 average batch loss: tensor(1.00000e-03 *\n",
            "       7.4496, device='cuda:0')\n",
            "Epoch: 4 Iter: 600 average batch loss: tensor(1.00000e-03 *\n",
            "       5.7493, device='cuda:0')\n",
            "Epoch: 4 Iter: 900 average batch loss: tensor(1.00000e-03 *\n",
            "       4.7190, device='cuda:0')\n",
            "Epoch: 4 Iter: 1200 average batch loss: tensor(1.00000e-03 *\n",
            "       4.2760, device='cuda:0')\n",
            "\n",
            "Epoch: 4 Total loss: tensor(5.2118, device='cuda:0')\n",
            "Epoch: 4 Accuracy: 0.9997959183673469 \n",
            "\n",
            "Validation accuracy: 0.9595959595959596\n",
            "Epoch: 5 Iter: 0 average batch loss: tensor(1.00000e-03 *\n",
            "       2.3340, device='cuda:0')\n",
            "Epoch: 5 Iter: 300 average batch loss: tensor(1.00000e-03 *\n",
            "       5.8571, device='cuda:0')\n",
            "Epoch: 5 Iter: 600 average batch loss: tensor(1.00000e-03 *\n",
            "       4.2411, device='cuda:0')\n",
            "Epoch: 5 Iter: 900 average batch loss: tensor(1.00000e-03 *\n",
            "       3.4921, device='cuda:0')\n",
            "Epoch: 5 Iter: 1200 average batch loss: tensor(1.00000e-03 *\n",
            "       3.1672, device='cuda:0')\n",
            "\n",
            "Epoch: 5 Total loss: tensor(3.8576, device='cuda:0')\n",
            "Epoch: 5 Accuracy: 0.9997959183673469 \n",
            "\n",
            "Validation accuracy: 0.9595959595959596\n",
            "Epoch: 6 Iter: 0 average batch loss: tensor(1.00000e-03 *\n",
            "       2.0396, device='cuda:0')\n",
            "Epoch: 6 Iter: 300 average batch loss: tensor(1.00000e-03 *\n",
            "       2.0086, device='cuda:0')\n",
            "Epoch: 6 Iter: 600 average batch loss: tensor(1.00000e-03 *\n",
            "       1.8582, device='cuda:0')\n",
            "Epoch: 6 Iter: 900 average batch loss: tensor(1.00000e-03 *\n",
            "       1.7568, device='cuda:0')\n",
            "Epoch: 6 Iter: 1200 average batch loss: tensor(1.00000e-03 *\n",
            "       1.7566, device='cuda:0')\n",
            "\n",
            "Epoch: 6 Total loss: tensor(2.1518, device='cuda:0')\n",
            "Epoch: 6 Accuracy: 1.0 \n",
            "\n",
            "Validation accuracy: 0.9595959595959596\n",
            "Epoch: 7 Iter: 0 average batch loss: tensor(1.00000e-03 *\n",
            "       1.6944, device='cuda:0')\n",
            "Epoch: 7 Iter: 300 average batch loss: tensor(1.00000e-03 *\n",
            "       1.6537, device='cuda:0')\n",
            "Epoch: 7 Iter: 600 average batch loss: tensor(1.00000e-03 *\n",
            "       1.5197, device='cuda:0')\n",
            "Epoch: 7 Iter: 900 average batch loss: tensor(1.00000e-03 *\n",
            "       1.4514, device='cuda:0')\n",
            "Epoch: 7 Iter: 1200 average batch loss: tensor(1.00000e-03 *\n",
            "       1.4607, device='cuda:0')\n",
            "\n",
            "Epoch: 7 Total loss: tensor(1.7895, device='cuda:0')\n",
            "Epoch: 7 Accuracy: 1.0 \n",
            "\n",
            "Validation accuracy: 0.9595959595959596\n",
            "Epoch: 8 Iter: 0 average batch loss: tensor(1.00000e-03 *\n",
            "       1.4663, device='cuda:0')\n",
            "Epoch: 8 Iter: 300 average batch loss: tensor(1.00000e-03 *\n",
            "       1.4363, device='cuda:0')\n",
            "Epoch: 8 Iter: 600 average batch loss: tensor(1.00000e-03 *\n",
            "       1.3123, device='cuda:0')\n",
            "Epoch: 8 Iter: 900 average batch loss: tensor(1.00000e-03 *\n",
            "       1.2585, device='cuda:0')\n",
            "Epoch: 8 Iter: 1200 average batch loss: tensor(1.00000e-03 *\n",
            "       1.2694, device='cuda:0')\n",
            "\n",
            "Epoch: 8 Total loss: tensor(1.5551, device='cuda:0')\n",
            "Epoch: 8 Accuracy: 1.0 \n",
            "\n",
            "Validation accuracy: 0.9595959595959596\n",
            "Epoch: 9 Iter: 0 average batch loss: tensor(1.00000e-03 *\n",
            "       1.3017, device='cuda:0')\n",
            "Epoch: 9 Iter: 300 average batch loss: tensor(1.00000e-03 *\n",
            "       1.2802, device='cuda:0')\n",
            "Epoch: 9 Iter: 600 average batch loss: tensor(1.00000e-03 *\n",
            "       1.1646, device='cuda:0')\n",
            "Epoch: 9 Iter: 900 average batch loss: tensor(1.00000e-03 *\n",
            "       1.1195, device='cuda:0')\n",
            "Epoch: 9 Iter: 1200 average batch loss: tensor(1.00000e-03 *\n",
            "       1.1308, device='cuda:0')\n",
            "\n",
            "Epoch: 9 Total loss: tensor(1.3853, device='cuda:0')\n",
            "Epoch: 9 Accuracy: 1.0 \n",
            "\n",
            "Validation accuracy: 0.9595959595959596\n"
          ],
          "name": "stdout"
        }
      ]
    },
    {
      "metadata": {
        "id": "BaxWNCbFIy_K",
        "colab_type": "code",
        "outputId": "b7615e64-bb10-4b71-964f-a8e8b934858d",
        "colab": {
          "base_uri": "https://localhost:8080/",
          "height": 361
        }
      },
      "cell_type": "code",
      "source": [
        "import matplotlib.pyplot as plt\n",
        "plt.plot(losses)\n",
        "plt.ylabel('loss')\n",
        "plt.xlabel('epoch')\n",
        "plt.show()"
      ],
      "execution_count": 0,
      "outputs": [
        {
          "output_type": "display_data",
          "data": {
            "image/png": "[encoded data removed]",
            "text/plain": [
              "<matplotlib.figure.Figure at 0x7f8945998e10>"
            ]
          },
          "metadata": {
            "tags": []
          }
        }
      ]
    },
    {
      "metadata": {
        "id": "SoaN6tQdoJLs",
        "colab_type": "code",
        "outputId": "6d9f37f5-2654-4327-d768-725cb39497e3",
        "colab": {
          "base_uri": "https://localhost:8080/",
          "height": 361
        }
      },
      "cell_type": "code",
      "source": [
        "import matplotlib.pyplot as plt\n",
        "plt.plot(accuracies,'C0',label='Trainset accuracies')\n",
        "plt.plot(validation_accuracies,'C1',label='Validation accuracies')\n",
        "plt.ylabel('accuracy')\n",
        "plt.xlabel('epoch')\n",
        "plt.legend()\n",
        "plt.show()"
      ],
      "execution_count": 0,
      "outputs": [
        {
          "output_type": "display_data",
          "data": {
            "image/png": "[encoded data removed]",
            "text/plain": [
              "<matplotlib.figure.Figure at 0x7f89459988d0>"
            ]
          },
          "metadata": {
            "tags": []
          }
        }
      ]
    },
    {
      "metadata": {
        "id": "cX5AxMa-5Yyn",
        "colab_type": "text"
      },
      "cell_type": "markdown",
      "source": [
        "# Save/load model"
      ]
    },
    {
      "metadata": {
        "colab_type": "code",
        "id": "a5u7oAE8nLL7",
        "colab": {}
      },
      "cell_type": "code",
      "source": [
        "torch.save(model.state_dict(), \"resnet34_modekl1.pt\")"
      ],
      "execution_count": 0,
      "outputs": []
    },
    {
      "metadata": {
        "id": "ipNnYH8aAIIW",
        "colab_type": "code",
        "colab": {}
      },
      "cell_type": "code",
      "source": [
        "model.load_state_dict(torch.load(\"resnet34_epoch_9pt\"))\n",
        "model.eval()"
      ],
      "execution_count": 0,
      "outputs": []
    },
    {
      "metadata": {
        "id": "W0Fo8dfggtGM",
        "colab_type": "text"
      },
      "cell_type": "markdown",
      "source": [
        "# Exporting solution to csv"
      ]
    },
    {
      "metadata": {
        "id": "--9uoIcLD1br",
        "colab_type": "code",
        "colab": {}
      },
      "cell_type": "code",
      "source": [
        "from tqdm import tqdm"
      ],
      "execution_count": 0,
      "outputs": []
    },
    {
      "metadata": {
        "colab_type": "code",
        "id": "Zh0oxbAqHPj_",
        "colab": {}
      },
      "cell_type": "code",
      "source": [
        "def answer_builder(model):\n",
        "  \"\"\"\n",
        "  Performs inference on testset and exports predictions to answer.csv\n",
        "  \"\"\"\n",
        "  model.eval()\n",
        "  df = pd.DataFrame(columns=['id','category'])\n",
        "  images =torch.empty([100,3,224,224])\n",
        "  with torch.no_grad():\n",
        "    for itr in tqdm(range(0,400)):\n",
        "      for idx in (range(100*itr,100*(itr+1))):\n",
        "        img_name = os.path.join(\"/content/testing/\", str(idx+1) + \".png\")\n",
        "        image = Image.open(img_name)\n",
        "        image = tfms(image)\n",
        "        image = image.unsqueeze(0)\n",
        "        images[idx-100*itr,:,:,:] = image\n",
        "   # print('\\nPerforming inference...')\n",
        "      images = images.cuda()\n",
        "      target = model(images)\n",
        "      target = torch.argmax(target,dim=1).cpu().numpy()+1\n",
        "   # print('Generating answer.csv')\n",
        "      for i in range(0,100):\n",
        "        df.loc[100*itr+i+1] = [100*itr+i+1, target[i]]\n",
        "\n",
        "    df.to_csv('answer.csv', index=False)"
      ],
      "execution_count": 0,
      "outputs": []
    },
    {
      "metadata": {
        "id": "o2WDFjrdHRpm",
        "colab_type": "code",
        "outputId": "d5168d25-1edd-47ec-f791-2cfe3999e717",
        "colab": {
          "base_uri": "https://localhost:8080/",
          "height": 92
        }
      },
      "cell_type": "code",
      "source": [
        "answer_builder(model)"
      ],
      "execution_count": 0,
      "outputs": [
        {
          "output_type": "stream",
          "text": [
            "  0%|          | 0/400 [00:00<?, ?it/s]/usr/local/lib/python3.6/dist-packages/torch/nn/modules/container.py:91: UserWarning: Implicit dimension choice for log_softmax has been deprecated. Change the call to include dim=X as an argument.\n",
            "  input = module(input)\n",
            "100%|██████████| 400/400 [11:38<00:00,  1.92s/it]\n"
          ],
          "name": "stderr"
        }
      ]
    }
  ]
}