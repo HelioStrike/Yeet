{
  "nbformat": 4,
  "nbformat_minor": 0,
  "metadata": {
    "colab": {
      "name": "AyyLmao_Resnet152.ipynb",
      "version": "0.3.2",
      "provenance": [],
      "collapsed_sections": []
    },
    "kernelspec": {
      "name": "python3",
      "display_name": "Python 3"
    },
    "accelerator": "GPU"
  },
  "cells": [
    {
      "metadata": {
        "id": "mVkmm-7-f8D-",
        "colab_type": "text"
      },
      "cell_type": "markdown",
      "source": [
        "# Colab setup\n"
      ]
    },
    {
      "metadata": {
        "id": "uYHgxPiedr15",
        "colab_type": "code",
        "outputId": "1860d806-607c-416c-bde1-decef8f5e067",
        "colab": {
          "base_uri": "https://localhost:8080/",
          "height": 54
        }
      },
      "cell_type": "code",
      "source": [
        "from os import path\n",
        "from wheel.pep425tags import get_abbr_impl, get_impl_ver, get_abi_tag\n",
        "platform = '{}{}-{}'.format(get_abbr_impl(), get_impl_ver(), get_abi_tag())\n",
        "\n",
        "accelerator = 'cu80' if path.exists('/opt/bin/nvidia-smi') else 'cpu'\n",
        "\n",
        "!pip install -q http://download.pytorch.org/whl/{accelerator}/torch-0.4.0-{platform}-linux_x86_64.whl torchvision\n",
        "import torch\n",
        "print(torch.__version__)\n",
        "print(torch.cuda.is_available())"
      ],
      "execution_count": 0,
      "outputs": [
        {
          "output_type": "stream",
          "text": [
            "0.4.0\n",
            "True\n"
          ],
          "name": "stdout"
        }
      ]
    },
    {
      "metadata": {
        "id": "6WXSslxueGlC",
        "colab_type": "code",
        "colab": {}
      },
      "cell_type": "code",
      "source": [
        "!pip3 install Pillow==4.0.0\n",
        "!pip3 install PIL\n",
        "!pip3 install image"
      ],
      "execution_count": 0,
      "outputs": []
    },
    {
      "metadata": {
        "id": "SoXsPcEMuU_7",
        "colab_type": "code",
        "colab": {}
      },
      "cell_type": "code",
      "source": [
        "import random\n",
        "import torch\n",
        "import torchvision\n",
        "import torchvision.transforms as transforms\n",
        "import torchvision.datasets\n",
        "import torchvision.models as models\n",
        "import torch.nn as nn\n",
        "import torch.nn.functional as F\n",
        "import torch.optim as optim\n",
        "\n",
        "import numpy as np\n",
        "import pandas as pd\n",
        "import os\n",
        "from PIL import Image"
      ],
      "execution_count": 0,
      "outputs": []
    },
    {
      "metadata": {
        "id": "K55Z6esrFSeC",
        "colab_type": "code",
        "colab": {}
      },
      "cell_type": "code",
      "source": [
        "!wget https://cdn.skillenza.com/files/5ee0a2e1-bf6d-4173-8244-e75fa2d7bbe2/training.5k.zip\n",
        "!unzip training.5k.zip  "
      ],
      "execution_count": 0,
      "outputs": []
    },
    {
      "metadata": {
        "id": "psBBloVCHiZW",
        "colab_type": "code",
        "colab": {}
      },
      "cell_type": "code",
      "source": [
        "!wget https://cdn.skillenza.com/files/7da538a3-4db6-46ea-a4f8-87a21368e5f5/testing.40k.zip\n",
        "!unzip testing.40k.zip"
      ],
      "execution_count": 0,
      "outputs": []
    },
    {
      "metadata": {
        "id": "KlXv3fo-pvKg",
        "colab_type": "code",
        "colab": {}
      },
      "cell_type": "code",
      "source": [
        "os.environ['CUDA_LAUNCH_BLOCKING'] = '1'\n"
      ],
      "execution_count": 0,
      "outputs": []
    },
    {
      "metadata": {
        "id": "e-huiczogPti",
        "colab_type": "text"
      },
      "cell_type": "markdown",
      "source": [
        "# Hyperparameters"
      ]
    },
    {
      "metadata": {
        "id": "I4m8nfHduUKc",
        "colab_type": "code",
        "colab": {}
      },
      "cell_type": "code",
      "source": [
        "NUM_EPOCHS = 5\n",
        "LR = 0.8*(1e-4)\n",
        "BATCH_SIZE = 4\n",
        "GAMMA = 0.95\n",
        "curr_lr = LR"
      ],
      "execution_count": 0,
      "outputs": []
    },
    {
      "metadata": {
        "id": "NIgRM-ucwzPr",
        "colab_type": "code",
        "colab": {}
      },
      "cell_type": "code",
      "source": [
        "tfms = transforms.Compose([transforms.Resize((224,224)),transforms.transforms.ToTensor(), transforms.Normalize([0.5, 0.5, 0.5], [0.5, 0.5, 0.5])])"
      ],
      "execution_count": 0,
      "outputs": []
    },
    {
      "metadata": {
        "id": "aTFCdyDnykS6",
        "colab_type": "code",
        "colab": {}
      },
      "cell_type": "code",
      "source": [
        "categories = pd.read_csv(\"/content/training/solution.csv\")[\"category\"]\n",
        "def getitem(idx):\n",
        "    img_name = os.path.join(\"/content/training/training/\", str(idx+1) + \".png\")\n",
        "    image = Image.open(img_name)\n",
        "    if tfms:\n",
        "        image = tfms(image)\n",
        "    category = categories[idx]\n",
        "    sample = {'image': image, 'category': category}\n",
        "\n",
        "    return sample"
      ],
      "execution_count": 0,
      "outputs": []
    },
    {
      "metadata": {
        "id": "khhsSNyIHYb7",
        "colab_type": "code",
        "colab": {}
      },
      "cell_type": "code",
      "source": [
        "a = np.arange(0,5000)\n",
        "np.random.shuffle(a)\n",
        "train_indexes = a[:4901]\n",
        "test_indexes = a[4901:5001]"
      ],
      "execution_count": 0,
      "outputs": []
    },
    {
      "metadata": {
        "id": "CozkOmrcghJq",
        "colab_type": "text"
      },
      "cell_type": "markdown",
      "source": [
        "# Model"
      ]
    },
    {
      "metadata": {
        "id": "nEOlgPMXymHl",
        "colab_type": "code",
        "colab": {}
      },
      "cell_type": "code",
      "source": [
        "class Flatten(nn.Module):\n",
        "    def forward(self, input):\n",
        "        return input.view(input.size(0), -1)"
      ],
      "execution_count": 0,
      "outputs": []
    },
    {
      "metadata": {
        "id": "7Hc35Ctoy0Lp",
        "colab_type": "code",
        "outputId": "0b01cba8-cfdf-4365-f06f-c2001473b2de",
        "colab": {
          "base_uri": "https://localhost:8080/",
          "height": 74
        }
      },
      "cell_type": "code",
      "source": [
        "model = models.resnet152(pretrained=True)\n",
        "\n",
        "model = nn.Sequential(*list(model.children())[:-2],\n",
        "                     nn.Conv2d(2048, 6, 3, 1),\n",
        "                     nn.AdaptiveAvgPool2d(1), Flatten(),\n",
        "                     nn.LogSoftmax())\n",
        "\n",
        "if torch.cuda.is_available():\n",
        "    model = model.cuda()\n",
        "\n",
        "criterion = nn.CrossEntropyLoss()\n",
        "optimizer = optim.SGD(model.parameters(), lr=LR, momentum=0.9)"
      ],
      "execution_count": 0,
      "outputs": [
        {
          "output_type": "stream",
          "text": [
            "Downloading: \"https://download.pytorch.org/models/resnet152-b121ed2d.pth\" to /root/.torch/models/resnet152-b121ed2d.pth\n",
            "100%|██████████| 241530880/241530880 [00:04<00:00, 56694876.76it/s]\n"
          ],
          "name": "stderr"
        }
      ]
    },
    {
      "metadata": {
        "id": "r28TqwORzkAH",
        "colab_type": "code",
        "colab": {}
      },
      "cell_type": "code",
      "source": [
        "#print(model.children)\n",
        "\n",
        "count = 0\n",
        "for param in model.parameters():\n",
        "    param.requires_grad = False\n",
        "    count += 1\n",
        "    if count >= 8:\n",
        "        break"
      ],
      "execution_count": 0,
      "outputs": []
    },
    {
      "metadata": {
        "id": "-7qSJsvyzrrc",
        "colab_type": "code",
        "colab": {}
      },
      "cell_type": "code",
      "source": [
        "def adjust_learning_rate(optimizer, lr):\n",
        "    for param_group in optimizer.param_groups:\n",
        "        param_group['lr'] = lr"
      ],
      "execution_count": 0,
      "outputs": []
    },
    {
      "metadata": {
        "id": "mRWXuRh6gkhj",
        "colab_type": "text"
      },
      "cell_type": "markdown",
      "source": [
        "# Training"
      ]
    },
    {
      "metadata": {
        "id": "3RuLdf0JqjVt",
        "colab_type": "code",
        "colab": {}
      },
      "cell_type": "code",
      "source": [
        "train_losses = []\n",
        "train_accuracies = []\n",
        "validation_accuracies = []"
      ],
      "execution_count": 0,
      "outputs": []
    },
    {
      "metadata": {
        "colab_type": "code",
        "id": "OG3TWkKFOlBf",
        "colab": {}
      },
      "cell_type": "code",
      "source": [
        "def validation_accuracy(model):\n",
        "  \"\"\"\n",
        "  Performs inference on the Validation set and returns the reported accuracy\n",
        "  \"\"\"\n",
        "  correct = 0\n",
        "  \n",
        "  with torch.no_grad():\n",
        "    for idx in range(0,99):\n",
        "      data = getitem(test_indexes[idx])\n",
        "      image = data['image']\n",
        "      exp = data['category']\n",
        "      image = image.unsqueeze(0).cuda()\n",
        "      target = model(image)\n",
        "      ans = (torch.argmax(target).cpu().numpy()+1)\n",
        "      if (ans == exp):\n",
        "        correct +=1\n",
        "  return (correct/99)\n",
        "\n",
        " "
      ],
      "execution_count": 0,
      "outputs": []
    },
    {
      "metadata": {
        "id": "ntHZzQ2eztpf",
        "colab_type": "code",
        "colab": {}
      },
      "cell_type": "code",
      "source": [
        "for epoch in range(NUM_EPOCHS):\n",
        "    model.train()\n",
        "    total_loss = 0\n",
        "    accuracy = torch.tensor(0)\n",
        "    count = 0\n",
        "\n",
        "    adjust_learning_rate(optimizer, curr_lr)\n",
        "    curr_lr *= GAMMA\n",
        "    \n",
        "    for c in range(0,int(4900/BATCH_SIZE)):\n",
        "        optimizer.zero_grad()\n",
        "        images = torch.zeros([4,3,224,224])\n",
        "        targets = []\n",
        "        for p in range(0,BATCH_SIZE):\n",
        "            data = getitem(train_indexes[BATCH_SIZE*c+p])\n",
        "            images[p,:,:,:] = data['image']\n",
        "            targets.append(np.asscalar(data[\"category\"])-1)\n",
        "        targets = torch.LongTensor(targets)\n",
        "        if torch.cuda.is_available():\n",
        "            images = images.cuda()\n",
        "            targets = targets.cuda()\n",
        "        \n",
        "        outs = model(images)\n",
        "        loss = criterion(outs, targets)\n",
        "        loss.backward()\n",
        "        optimizer.step()\n",
        "                \n",
        "        total_loss += loss.data\n",
        "        accuracy += torch.sum(torch.argmax(outs, dim=1).cpu() == targets)\n",
        "        count += BATCH_SIZE\n",
        "\n",
        "        if c%200 == 0:\n",
        "            print(\"Epoch:\", epoch, \"Iter:\", c, \"average batch loss:\", total_loss/(c+1), \"Accuracy:\", accuracy.cpu().numpy()/count)\n",
        "    \n",
        "    print(\"\\nEpoch:\", epoch, \"Total loss:\", total_loss)\n",
        "    acc = accuracy.cpu().numpy()/count\n",
        "    print(\"Epoch:\", epoch, \"Accuracy:\", acc,'\\n') \n",
        "    \n",
        "    model = model.eval()\n",
        "    val_acc = validation_accuracy(model)\n",
        "    print('Validation accuracy:',val_acc)\n",
        "    validation_accuracies.append(val_acc)\n",
        "    model = model.train()\n",
        "    \n",
        "    torch.save(model.state_dict(), \"resnet152_epoch_\"+str(epoch)+\"pt\")\n",
        "    train_losses.append(total_loss/4900)\n",
        "    train_accuracies.append(acc)"
      ],
      "execution_count": 0,
      "outputs": []
    },
    {
      "metadata": {
        "id": "BaxWNCbFIy_K",
        "colab_type": "code",
        "colab": {}
      },
      "cell_type": "code",
      "source": [
        "import matplotlib.pyplot as plt\n",
        "plt.plot(train_losses)\n",
        "plt.ylabel('loss')\n",
        "plt.show()"
      ],
      "execution_count": 0,
      "outputs": []
    },
    {
      "metadata": {
        "id": "SoaN6tQdoJLs",
        "colab_type": "code",
        "colab": {}
      },
      "cell_type": "code",
      "source": [
        "import matplotlib.pyplot as plt\n",
        "plt.plot(accuracies,'C0',label='Trainset accuracies')\n",
        "plt.plot(validation_accuracies,'C1',label='Validation accuracies')\n",
        "plt.ylabel('accuracy')\n",
        "plt.show()"
      ],
      "execution_count": 0,
      "outputs": []
    },
    {
      "metadata": {
        "id": "OpgufbHGsnQm",
        "colab_type": "text"
      },
      "cell_type": "markdown",
      "source": [
        "# Save/load model"
      ]
    },
    {
      "metadata": {
        "id": "JUL_FWHqzv8i",
        "colab_type": "code",
        "colab": {}
      },
      "cell_type": "code",
      "source": [
        "torch.save(model.state_dict(), \"resnet152_model0.pt\")"
      ],
      "execution_count": 0,
      "outputs": []
    },
    {
      "metadata": {
        "id": "ipNnYH8aAIIW",
        "colab_type": "code",
        "colab": {}
      },
      "cell_type": "code",
      "source": [
        "model.load_state_dict(torch.load(\"resnet152_model0.pt\"))\n",
        "model.eval()"
      ],
      "execution_count": 0,
      "outputs": []
    },
    {
      "metadata": {
        "id": "W0Fo8dfggtGM",
        "colab_type": "text"
      },
      "cell_type": "markdown",
      "source": [
        "# Exporting solution to csv"
      ]
    },
    {
      "metadata": {
        "id": "QL8rEewHUCyN",
        "colab_type": "code",
        "colab": {}
      },
      "cell_type": "code",
      "source": [
        "from tqdm import tqdm"
      ],
      "execution_count": 0,
      "outputs": []
    },
    {
      "metadata": {
        "id": "_D2sey4b6ax9",
        "colab_type": "code",
        "colab": {}
      },
      "cell_type": "code",
      "source": [
        "def answer_builder(model):\n",
        "  \"\"\"\n",
        "  Performs inference on testset and exports predictions to answer.csv\n",
        "  \"\"\"\n",
        "  model.eval()\n",
        "  df = pd.DataFrame(columns=['id','category'])\n",
        "  images =torch.empty([40000,3,224,224])\n",
        "  with torch.no_grad():\n",
        "    for idx in tqdm(range(0,40000)):\n",
        "      img_name = os.path.join(\"/content/testing/\", str(idx+1) + \".png\")\n",
        "      image = Image.open(img_name)\n",
        "      image = tfms(image)\n",
        "      image = image.unsqueeze(0)\n",
        "      images[idx,:,:,:] = image\n",
        "    print('\\nPerforming inference...')\n",
        "    images = images.cuda()\n",
        "    target = model(images)\n",
        "    target = torch.argmax(target, dim=1)\n",
        "    print('Generating answer.csv')\n",
        "    for i in tqdm(range(1,40001)):\n",
        "      df.loc[i] = [i, torch.argmax(target).cpu().numpy()+1]\n",
        "\n",
        "    df.to_csv('answer.csv', index=False)"
      ],
      "execution_count": 0,
      "outputs": []
    },
    {
      "metadata": {
        "id": "2ou1Zu27TOlC",
        "colab_type": "code",
        "colab": {}
      },
      "cell_type": "code",
      "source": [
        "answer_builder(model)"
      ],
      "execution_count": 0,
      "outputs": []
    }
  ]
}